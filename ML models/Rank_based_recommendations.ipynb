{
 "cells": [
  {
   "cell_type": "code",
   "execution_count": 14,
   "metadata": {
    "id": "bR1Zr7kVPcSx"
   },
   "outputs": [],
   "source": [
    "import warnings\n",
    "warnings.filterwarnings('ignore')\n",
    "import numpy as np\n",
    "import pandas as pd\n",
    "import matplotlib.pyplot as plt\n",
    "import seaborn as sns\n",
    "from sklearn.metrics.pairwise import cosine_similarity\n",
    "from sklearn.metrics import mean_squared_error"
   ]
  },
  {
   "cell_type": "code",
   "execution_count": 15,
   "metadata": {
    "id": "kIJrl4oDYGof"
   },
   "outputs": [],
   "source": [
    "# Read the CSV file into a pandas DataFrame\n",
    "df = pd.read_csv(\"C:\\\\Users\\\\bhanu\\\\OneDrive\\\\Desktop\\\\flipkartgrid\\\\interactions_information.csv\")\n",
    "df.columns = ['user_id', 'product_id', 'categorie', 'sub_categorie','rating']\n",
    "df_copy = df.copy(deep=True)"
   ]
  },
  {
   "cell_type": "code",
   "execution_count": 16,
   "metadata": {
    "colab": {
     "base_uri": "https://localhost:8080/"
    },
    "id": "DoJsQLQQZnxr",
    "outputId": "33291cb1-b77c-433c-9fe0-6eb8182b6756"
   },
   "outputs": [
    {
     "name": "stdout",
     "output_type": "stream",
     "text": [
      "No of rows =  98561\n",
      "No of columns =  5\n"
     ]
    }
   ],
   "source": [
    "# Display basic information about the DataFrame\n",
    "rows, columns = df.shape\n",
    "print(\"No of rows = \", rows)\n",
    "print(\"No of columns = \", columns)"
   ]
  },
  {
   "cell_type": "code",
   "execution_count": 17,
   "metadata": {
    "colab": {
     "base_uri": "https://localhost:8080/"
    },
    "id": "fQ7jtksQZpnu",
    "outputId": "7edd7406-3e8a-4365-de60-408e9371c2d2"
   },
   "outputs": [
    {
     "name": "stdout",
     "output_type": "stream",
     "text": [
      "<class 'pandas.core.frame.DataFrame'>\n",
      "RangeIndex: 98561 entries, 0 to 98560\n",
      "Data columns (total 5 columns):\n",
      " #   Column         Non-Null Count  Dtype \n",
      "---  ------         --------------  ----- \n",
      " 0   user_id        98561 non-null  object\n",
      " 1   product_id     98561 non-null  int64 \n",
      " 2   categorie      98561 non-null  object\n",
      " 3   sub_categorie  98561 non-null  object\n",
      " 4   rating         98561 non-null  int64 \n",
      "dtypes: int64(2), object(3)\n",
      "memory usage: 3.8+ MB\n"
     ]
    }
   ],
   "source": [
    "# Check for missing values in the DataFrame\n",
    "df.info()"
   ]
  },
  {
   "cell_type": "code",
   "execution_count": 18,
   "metadata": {
    "colab": {
     "base_uri": "https://localhost:8080/"
    },
    "id": "ueXSgiYyZ1ma",
    "outputId": "191bdf6a-4642-46c6-dc04-dfc8755ac8fe"
   },
   "outputs": [
    {
     "data": {
      "text/plain": [
       "count    98561.000000\n",
       "mean         3.499569\n",
       "std          1.116746\n",
       "min          2.000000\n",
       "25%          3.000000\n",
       "50%          3.000000\n",
       "75%          4.000000\n",
       "max          5.000000\n",
       "Name: rating, dtype: float64"
      ]
     },
     "execution_count": 18,
     "metadata": {},
     "output_type": "execute_result"
    }
   ],
   "source": [
    "# Display descriptive statistics for the 'rating' column\n",
    "df['rating'].describe()"
   ]
  },
  {
   "cell_type": "code",
   "execution_count": 19,
   "metadata": {
    "colab": {
     "base_uri": "https://localhost:8080/",
     "height": 479
    },
    "id": "r0BYionwZ5Ai",
    "outputId": "a83d41c6-6709-4e90-f8aa-02b36ebd8bae"
   },
   "outputs": [
    {
     "data": {
      "image/png": "[encoded data removed]",
      "text/plain": [
       "<Figure size 1200x600 with 1 Axes>"
      ]
     },
     "metadata": {},
     "output_type": "display_data"
    }
   ],
   "source": [
    "# Create a bar plot to visualize the distribution of ratings\n",
    "plt.figure(figsize = (12,6))\n",
    "df['rating'].value_counts(1).plot(kind='bar')\n",
    "plt.show()\n"
   ]
  },
  {
   "cell_type": "code",
   "execution_count": 20,
   "metadata": {
    "colab": {
     "base_uri": "https://localhost:8080/"
    },
    "id": "4LLydBLXZ9up",
    "outputId": "7a08c17b-e5e6-4277-ea0b-3f06cbf26c5c"
   },
   "outputs": [
    {
     "name": "stdout",
     "output_type": "stream",
     "text": [
      "Number of unique USERS in Raw data =  500\n",
      "Number of unique ITEMS in Raw data =  284\n"
     ]
    }
   ],
   "source": [
    "# Display the number of unique users and unique products in the raw data\n",
    "print('Number of unique USERS in Raw data = ', df['user_id'].nunique())\n",
    "print('Number of unique ITEMS in Raw data = ', df['product_id'].nunique())\n",
    "list_uniques_subcategories=list(set(df['sub_categorie']))"
   ]
  },
  {
   "cell_type": "code",
   "execution_count": 21,
   "metadata": {
    "colab": {
     "base_uri": "https://localhost:8080/"
    },
    "id": "WEIVGLj9aFEW",
    "outputId": "144ff976-5e6b-4b13-d817-632fb987d4fa"
   },
   "outputs": [
    {
     "data": {
      "text/plain": [
       "user_id\n",
       "HC5     418\n",
       "ON8     412\n",
       "FR77    409\n",
       "LU87    405\n",
       "GO9     402\n",
       "OO2     402\n",
       "CO96    400\n",
       "KR42    400\n",
       "QB55    395\n",
       "SJ68    393\n",
       "dtype: int64"
      ]
     },
     "execution_count": 21,
     "metadata": {},
     "output_type": "execute_result"
    }
   ],
   "source": [
    "# Group users by the number of interactions and get the most active users\n",
    "most_rated = df.groupby('user_id').size().sort_values(ascending=False)[:10]\n",
    "most_rated"
   ]
  },
  {
   "cell_type": "code",
   "execution_count": 22,
   "metadata": {
    "id": "SiYcXEFgaIAB"
   },
   "outputs": [],
   "source": [
    "# Count the number of interactions per user\n",
    "counts = df['user_id'].value_counts()\n",
    "df_final = df[df['user_id'].isin(counts[counts >= 50].index)]"
   ]
  },
  {
   "cell_type": "code",
   "execution_count": 23,
   "metadata": {
    "colab": {
     "base_uri": "https://localhost:8080/"
    },
    "id": "Xzqj5oXHaLhP",
    "outputId": "b9b30154-cfd4-4b86-debf-051d53a82557",
    "scrolled": true
   },
   "outputs": [
    {
     "name": "stdout",
     "output_type": "stream",
     "text": [
      "The number of observations in the final data = 96999\n",
      "Number of unique USERS in the final data =  437\n",
      "Number of unique PRODUCTS in the final data =  284\n"
     ]
    }
   ],
   "source": [
    "print('The number of observations in the final data =', len(df_final))\n",
    "print('Number of unique USERS in the final data = ', df_final['user_id'].nunique())\n",
    "print('Number of unique PRODUCTS in the final data = ', df_final['product_id'].nunique())"
   ]
  },
  {
   "cell_type": "code",
   "execution_count": 24,
   "metadata": {
    "id": "SCGSJycXa8Kp"
   },
   "outputs": [
    {
     "name": "stdout",
     "output_type": "stream",
     "text": [
      "{'OnePlusBuds': [11021, 11016, 11022, 11014, 11012], 'samsung': [10910, 10907, 10904, 10903, 10890], 'hp': [10793, 10799, 10794, 10796, 10795], 'canoncamera': [10752, 10766, 10776, 10756, 10774], 'dell': [10786, 10790, 10780, 10779, 10788], 'Realmebuds': [10989, 10988, 10987, 10980, 10979], 'boat': [10727, 10738, 10729, 10739, 10746], 'Apple Mobiles': [10714, 10702, 10707, 10720, 10723], 'lgTV': [10838, 10842, 10822, 10829, 10836], 'nikoncamera': [10865, 10869, 10886, 10884, 10872], 'Skullcandy': [10950, 10952, 10945, 10954, 10951], 'lenovo': [10816, 10818, 10809, 10814, 10815], 'samsungTV': [10931, 10922, 10939, 10933, 10924], 'Noiseearbuds': [10963, 10975, 10968, 10972, 10957], 'IQ Mobiles': [11005, 11001, 11004, 10997, 10995], 'mi': [10858, 10863, 10843, 10853, 10856]}\n"
     ]
    }
   ],
   "source": [
    "# Loop through each unique sub-category and recommend top productsall_products=dict({})\n",
    "for i in list_uniques_subcategories:\n",
    "    sub_cat=df_final[df_final['sub_categorie']==i].reset_index()\n",
    "    aggregated_df = sub_cat.groupby(['user_id', 'product_id'])['rating'].mean().reset_index()\n",
    "\n",
    "    final_ratings_matrix = aggregated_df.pivot_table(index='user_id', columns='product_id', values='rating', fill_value=0)\n",
    "    given_num_of_ratings = np.count_nonzero(final_ratings_matrix)\n",
    "    possible_num_of_ratings = final_ratings_matrix.shape[0] * final_ratings_matrix.shape[1]\n",
    "    average_rating = aggregated_df.groupby('product_id').mean()['rating']\n",
    "\n",
    "    #Calculate the count of ratings for each product\n",
    "    count_rating = aggregated_df.groupby('product_id').count()['rating']\n",
    "    #Create a dataframe with calculated average and count of ratings\n",
    "    final_rating = pd.DataFrame({'avg_rating':average_rating, 'rating_count':count_rating})\n",
    "    #Sort the dataframe by average of ratings\n",
    "    final_rating = final_rating.sort_values(by='avg_rating',ascending=False)\n",
    "\n",
    "    final_rating.head()\n",
    "    #defining a function to get the top n products based on highest average rating and minimum interactions\n",
    "    def top_n_products(final_rating, n, min_interaction):\n",
    "\n",
    "        #Finding products with minimum number of interactions\n",
    "        recommendations = final_rating[final_rating['rating_count']>min_interaction]\n",
    "\n",
    "        #Sorting values w.r.t average rating\n",
    "        recommendations = recommendations.sort_values('avg_rating',ascending=False)\n",
    "\n",
    "        return recommendations.index[:n]\n",
    "    all_products[i]=list(top_n_products(final_rating, 5, 50))\n",
    "print(all_products)"
   ]
  }
 ],
 "metadata": {
  "colab": {
   "provenance": []
  },
  "kernelspec": {
   "display_name": "Python 3 (ipykernel)",
   "language": "python",
   "name": "python3"
  },
  "language_info": {
   "codemirror_mode": {
    "name": "ipython",
    "version": 3
   },
   "file_extension": ".py",
   "mimetype": "text/x-python",
   "name": "python",
   "nbconvert_exporter": "python",
   "pygments_lexer": "ipython3",
   "version": "3.10.9"
  }
 },
 "nbformat": 4,
 "nbformat_minor": 1
}

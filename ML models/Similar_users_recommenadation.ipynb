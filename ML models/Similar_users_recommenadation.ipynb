{
 "cells": [
  {
   "cell_type": "code",
   "execution_count": 23,
   "metadata": {
    "id": "nndU-wWEbykw"
   },
   "outputs": [],
   "source": [
    "import warnings\n",
    "warnings.filterwarnings('ignore')\n",
    "\n",
    "import numpy as np\n",
    "import pandas as pd\n",
    "\n",
    "import matplotlib.pyplot as plt\n",
    "import seaborn as sns\n",
    "\n",
    "from sklearn.metrics.pairwise import cosine_similarity\n",
    "\n",
    "from sklearn.metrics import mean_squared_error"
   ]
  },
  {
   "cell_type": "code",
   "execution_count": 24,
   "metadata": {
    "id": "3XiFyXbrc8fJ"
   },
   "outputs": [],
   "source": [
    "# Read the CSV file into a pandas DataFrame\n",
    "df = pd.read_csv('C:\\\\Users\\\\bhanu\\\\OneDrive\\\\Desktop\\\\flipkartgrid\\\\interactions_information.csv')\n",
    "df.columns = ['user_id', 'product_id', 'categorie', 'sub_categorie','rating']\n",
    "df_copy = df.copy(deep=True)"
   ]
  },
  {
   "cell_type": "code",
   "execution_count": 25,
   "metadata": {
    "colab": {
     "base_uri": "https://localhost:8080/"
    },
    "id": "TmZQElbbdDbG",
    "outputId": "9de7bb60-c842-4cea-9082-9a69bd19eaac"
   },
   "outputs": [
    {
     "name": "stdout",
     "output_type": "stream",
     "text": [
      "No of rows =  98561\n",
      "No of columns =  5\n"
     ]
    }
   ],
   "source": [
    "# Display basic information about the DataFrame\n",
    "rows, columns = df.shape\n",
    "print(\"No of rows = \", rows)\n",
    "print(\"No of columns = \", columns)"
   ]
  },
  {
   "cell_type": "code",
   "execution_count": 26,
   "metadata": {
    "colab": {
     "base_uri": "https://localhost:8080/"
    },
    "id": "zvzqzOUHdHwS",
    "outputId": "755fe39f-37e9-4c17-def0-40edf39262c9"
   },
   "outputs": [
    {
     "name": "stdout",
     "output_type": "stream",
     "text": [
      "<class 'pandas.core.frame.DataFrame'>\n",
      "RangeIndex: 98561 entries, 0 to 98560\n",
      "Data columns (total 5 columns):\n",
      " #   Column         Non-Null Count  Dtype \n",
      "---  ------         --------------  ----- \n",
      " 0   user_id        98561 non-null  object\n",
      " 1   product_id     98561 non-null  int64 \n",
      " 2   categorie      98561 non-null  object\n",
      " 3   sub_categorie  98561 non-null  object\n",
      " 4   rating         98561 non-null  int64 \n",
      "dtypes: int64(2), object(3)\n",
      "memory usage: 3.8+ MB\n"
     ]
    }
   ],
   "source": [
    "df.info()"
   ]
  },
  {
   "cell_type": "code",
   "execution_count": 27,
   "metadata": {
    "colab": {
     "base_uri": "https://localhost:8080/",
     "height": 570
    },
    "id": "i0bl0QbCdPxj",
    "outputId": "78c28d02-a028-4ac1-ab64-8344a2cec1a5"
   },
   "outputs": [
    {
     "data": {
      "image/png": "[encoded data removed]",
      "text/plain": [
       "<Figure size 1200x600 with 1 Axes>"
      ]
     },
     "metadata": {},
     "output_type": "display_data"
    }
   ],
   "source": [
    "# Create a bar plot to visualize the distribution of ratings\n",
    "plt.figure(figsize = (12,6))\n",
    "df['rating'].value_counts(1).plot(kind='bar')\n",
    "plt.show()"
   ]
  },
  {
   "cell_type": "code",
   "execution_count": 28,
   "metadata": {
    "colab": {
     "base_uri": "https://localhost:8080/"
    },
    "id": "71F_O7Hedf7j",
    "outputId": "e6394997-da5f-46eb-a151-c8d1a337d52f"
   },
   "outputs": [
    {
     "name": "stdout",
     "output_type": "stream",
     "text": [
      "Number of unique USERS in Raw data =  500\n",
      "Number of unique ITEMS in Raw data =  284\n"
     ]
    }
   ],
   "source": [
    "# Display the number of unique users and unique products in the raw data\n",
    "print('Number of unique USERS in Raw data = ', df['user_id'].nunique())\n",
    "print('Number of unique ITEMS in Raw data = ', df['product_id'].nunique())"
   ]
  },
  {
   "cell_type": "code",
   "execution_count": 29,
   "metadata": {
    "colab": {
     "base_uri": "https://localhost:8080/"
    },
    "id": "VhcmWUHwdmyS",
    "outputId": "eeee74ff-8dc7-4a8f-eaaf-30b89ceb8cf4"
   },
   "outputs": [
    {
     "data": {
      "text/plain": [
       "user_id\n",
       "HC5     418\n",
       "ON8     412\n",
       "FR77    409\n",
       "LU87    405\n",
       "GO9     402\n",
       "OO2     402\n",
       "CO96    400\n",
       "KR42    400\n",
       "QB55    395\n",
       "SJ68    393\n",
       "dtype: int64"
      ]
     },
     "execution_count": 29,
     "metadata": {},
     "output_type": "execute_result"
    }
   ],
   "source": [
    "# Group users by the number of interactions and get the most active users\n",
    "most_rated = df.groupby('user_id').size().sort_values(ascending=False)[:10]\n",
    "most_rated"
   ]
  },
  {
   "cell_type": "code",
   "execution_count": 30,
   "metadata": {
    "id": "sXHRJO_7dpwd"
   },
   "outputs": [],
   "source": [
    "# Count the number of interactions per user\n",
    "counts = df['user_id'].value_counts()\n",
    "df_final = df[df['user_id'].isin(counts[counts >= 50].index)]"
   ]
  },
  {
   "cell_type": "code",
   "execution_count": 31,
   "metadata": {
    "colab": {
     "base_uri": "https://localhost:8080/"
    },
    "id": "m1GQ9fBUdt7c",
    "outputId": "f158cda6-fb8b-470d-ea69-23cdd01c796f"
   },
   "outputs": [
    {
     "name": "stdout",
     "output_type": "stream",
     "text": [
      "The number of observations in the final data = 96999\n",
      "Number of unique USERS in the final data =  437\n",
      "Number of unique PRODUCTS in the final data =  284\n"
     ]
    }
   ],
   "source": [
    "# Display information about the final filtered data\n",
    "print('The number of observations in the final data =', len(df_final))\n",
    "print('Number of unique USERS in the final data = ', df_final['user_id'].nunique())\n",
    "print('Number of unique PRODUCTS in the final data = ', df_final['product_id'].nunique())"
   ]
  },
  {
   "cell_type": "code",
   "execution_count": 32,
   "metadata": {
    "id": "3RAwiXORd0YQ"
   },
   "outputs": [],
   "source": [
    "# Group data by user and product, calculate average ratings\n",
    "aggregated_df = df_final.groupby(['user_id', 'product_id'])['rating'].mean().reset_index()"
   ]
  },
  {
   "cell_type": "code",
   "execution_count": 33,
   "metadata": {
    "id": "huXhgb8Wd_XE"
   },
   "outputs": [],
   "source": [
    "# Create a pivot table for collaborative filtering\n",
    "final_ratings_matrix = aggregated_df.pivot_table(index='user_id', columns='product_id', values='rating', fill_value=0)"
   ]
  },
  {
   "cell_type": "code",
   "execution_count": 34,
   "metadata": {
    "colab": {
     "base_uri": "https://localhost:8080/"
    },
    "id": "-s339yKreGNW",
    "outputId": "71ff8f14-9612-43d7-9366-ef1abda3c990"
   },
   "outputs": [
    {
     "name": "stdout",
     "output_type": "stream",
     "text": [
      "Shape of final_ratings_matrix: (437, 284)\n",
      "given_num_of_ratings = 62200\n",
      "possible_num_of_ratings = 124108\n",
      "density: 50.12%\n"
     ]
    }
   ],
   "source": [
    "# Calculate the density of the rating matrix\n",
    "given_num_of_ratings = np.count_nonzero(final_ratings_matrix)\n",
    "possible_num_of_ratings = final_ratings_matrix.shape[0] * final_ratings_matrix.shape[1]\n",
    "density = (given_num_of_ratings / possible_num_of_ratings) * 100\n",
    "\n",
    "print('Shape of final_ratings_matrix:', final_ratings_matrix.shape)\n",
    "print('given_num_of_ratings =', given_num_of_ratings)\n",
    "print('possible_num_of_ratings =', possible_num_of_ratings)\n",
    "print('density: {:4.2f}%'.format(density))"
   ]
  },
  {
   "cell_type": "code",
   "execution_count": 35,
   "metadata": {
    "colab": {
     "base_uri": "https://localhost:8080/",
     "height": 331
    },
    "id": "yvFhFAdeeUrn",
    "outputId": "cb4ddf0a-97a2-459e-d0f1-9a4cf5d2692d"
   },
   "outputs": [
    {
     "data": {
      "text/html": [
       "<div>\n",
       "<style scoped>\n",
       "    .dataframe tbody tr th:only-of-type {\n",
       "        vertical-align: middle;\n",
       "    }\n",
       "\n",
       "    .dataframe tbody tr th {\n",
       "        vertical-align: top;\n",
       "    }\n",
       "\n",
       "    .dataframe thead th {\n",
       "        text-align: right;\n",
       "    }\n",
       "</style>\n",
       "<table border=\"1\" class=\"dataframe\">\n",
       "  <thead>\n",
       "    <tr style=\"text-align: right;\">\n",
       "      <th>product_id</th>\n",
       "      <th>10701</th>\n",
       "      <th>10702</th>\n",
       "      <th>10703</th>\n",
       "      <th>10704</th>\n",
       "      <th>10705</th>\n",
       "      <th>10706</th>\n",
       "      <th>10707</th>\n",
       "      <th>10708</th>\n",
       "      <th>10709</th>\n",
       "      <th>10710</th>\n",
       "      <th>...</th>\n",
       "      <th>11013</th>\n",
       "      <th>11014</th>\n",
       "      <th>11015</th>\n",
       "      <th>11016</th>\n",
       "      <th>11017</th>\n",
       "      <th>11018</th>\n",
       "      <th>11019</th>\n",
       "      <th>11020</th>\n",
       "      <th>11021</th>\n",
       "      <th>11022</th>\n",
       "    </tr>\n",
       "    <tr>\n",
       "      <th>user_index</th>\n",
       "      <th></th>\n",
       "      <th></th>\n",
       "      <th></th>\n",
       "      <th></th>\n",
       "      <th></th>\n",
       "      <th></th>\n",
       "      <th></th>\n",
       "      <th></th>\n",
       "      <th></th>\n",
       "      <th></th>\n",
       "      <th></th>\n",
       "      <th></th>\n",
       "      <th></th>\n",
       "      <th></th>\n",
       "      <th></th>\n",
       "      <th></th>\n",
       "      <th></th>\n",
       "      <th></th>\n",
       "      <th></th>\n",
       "      <th></th>\n",
       "      <th></th>\n",
       "    </tr>\n",
       "  </thead>\n",
       "  <tbody>\n",
       "    <tr>\n",
       "      <th>0</th>\n",
       "      <td>0.0</td>\n",
       "      <td>0.0</td>\n",
       "      <td>3.0</td>\n",
       "      <td>0.000000</td>\n",
       "      <td>0.0</td>\n",
       "      <td>0.0</td>\n",
       "      <td>5.0</td>\n",
       "      <td>0.0</td>\n",
       "      <td>5.0</td>\n",
       "      <td>0.0</td>\n",
       "      <td>...</td>\n",
       "      <td>0.0</td>\n",
       "      <td>0.0</td>\n",
       "      <td>0.0</td>\n",
       "      <td>4.5</td>\n",
       "      <td>0.0</td>\n",
       "      <td>5.0</td>\n",
       "      <td>0.0</td>\n",
       "      <td>0.0</td>\n",
       "      <td>0.0</td>\n",
       "      <td>0.00</td>\n",
       "    </tr>\n",
       "    <tr>\n",
       "      <th>1</th>\n",
       "      <td>0.0</td>\n",
       "      <td>3.0</td>\n",
       "      <td>0.0</td>\n",
       "      <td>0.000000</td>\n",
       "      <td>0.0</td>\n",
       "      <td>0.0</td>\n",
       "      <td>0.0</td>\n",
       "      <td>5.0</td>\n",
       "      <td>0.0</td>\n",
       "      <td>0.0</td>\n",
       "      <td>...</td>\n",
       "      <td>0.0</td>\n",
       "      <td>0.0</td>\n",
       "      <td>0.0</td>\n",
       "      <td>0.0</td>\n",
       "      <td>0.0</td>\n",
       "      <td>0.0</td>\n",
       "      <td>0.0</td>\n",
       "      <td>0.0</td>\n",
       "      <td>0.0</td>\n",
       "      <td>0.00</td>\n",
       "    </tr>\n",
       "    <tr>\n",
       "      <th>2</th>\n",
       "      <td>5.0</td>\n",
       "      <td>0.0</td>\n",
       "      <td>3.0</td>\n",
       "      <td>0.000000</td>\n",
       "      <td>5.0</td>\n",
       "      <td>5.0</td>\n",
       "      <td>3.5</td>\n",
       "      <td>0.0</td>\n",
       "      <td>4.0</td>\n",
       "      <td>0.0</td>\n",
       "      <td>...</td>\n",
       "      <td>4.0</td>\n",
       "      <td>4.0</td>\n",
       "      <td>4.0</td>\n",
       "      <td>4.0</td>\n",
       "      <td>4.0</td>\n",
       "      <td>0.0</td>\n",
       "      <td>3.0</td>\n",
       "      <td>0.0</td>\n",
       "      <td>0.0</td>\n",
       "      <td>2.00</td>\n",
       "    </tr>\n",
       "    <tr>\n",
       "      <th>3</th>\n",
       "      <td>0.0</td>\n",
       "      <td>0.0</td>\n",
       "      <td>4.0</td>\n",
       "      <td>0.000000</td>\n",
       "      <td>3.0</td>\n",
       "      <td>0.0</td>\n",
       "      <td>0.0</td>\n",
       "      <td>0.0</td>\n",
       "      <td>3.0</td>\n",
       "      <td>4.0</td>\n",
       "      <td>...</td>\n",
       "      <td>0.0</td>\n",
       "      <td>0.0</td>\n",
       "      <td>4.0</td>\n",
       "      <td>0.0</td>\n",
       "      <td>0.0</td>\n",
       "      <td>5.0</td>\n",
       "      <td>5.0</td>\n",
       "      <td>2.0</td>\n",
       "      <td>0.0</td>\n",
       "      <td>5.00</td>\n",
       "    </tr>\n",
       "    <tr>\n",
       "      <th>4</th>\n",
       "      <td>4.0</td>\n",
       "      <td>0.0</td>\n",
       "      <td>0.0</td>\n",
       "      <td>3.333333</td>\n",
       "      <td>3.0</td>\n",
       "      <td>5.0</td>\n",
       "      <td>0.0</td>\n",
       "      <td>5.0</td>\n",
       "      <td>0.0</td>\n",
       "      <td>2.0</td>\n",
       "      <td>...</td>\n",
       "      <td>3.0</td>\n",
       "      <td>0.0</td>\n",
       "      <td>0.0</td>\n",
       "      <td>5.0</td>\n",
       "      <td>0.0</td>\n",
       "      <td>2.5</td>\n",
       "      <td>2.5</td>\n",
       "      <td>0.0</td>\n",
       "      <td>4.0</td>\n",
       "      <td>2.75</td>\n",
       "    </tr>\n",
       "  </tbody>\n",
       "</table>\n",
       "<p>5 rows × 284 columns</p>\n",
       "</div>"
      ],
      "text/plain": [
       "product_id  10701  10702  10703     10704  10705  10706  10707  10708  10709  \\\n",
       "user_index                                                                     \n",
       "0             0.0    0.0    3.0  0.000000    0.0    0.0    5.0    0.0    5.0   \n",
       "1             0.0    3.0    0.0  0.000000    0.0    0.0    0.0    5.0    0.0   \n",
       "2             5.0    0.0    3.0  0.000000    5.0    5.0    3.5    0.0    4.0   \n",
       "3             0.0    0.0    4.0  0.000000    3.0    0.0    0.0    0.0    3.0   \n",
       "4             4.0    0.0    0.0  3.333333    3.0    5.0    0.0    5.0    0.0   \n",
       "\n",
       "product_id  10710  ...  11013  11014  11015  11016  11017  11018  11019  \\\n",
       "user_index         ...                                                    \n",
       "0             0.0  ...    0.0    0.0    0.0    4.5    0.0    5.0    0.0   \n",
       "1             0.0  ...    0.0    0.0    0.0    0.0    0.0    0.0    0.0   \n",
       "2             0.0  ...    4.0    4.0    4.0    4.0    4.0    0.0    3.0   \n",
       "3             4.0  ...    0.0    0.0    4.0    0.0    0.0    5.0    5.0   \n",
       "4             2.0  ...    3.0    0.0    0.0    5.0    0.0    2.5    2.5   \n",
       "\n",
       "product_id  11020  11021  11022  \n",
       "user_index                       \n",
       "0             0.0    0.0   0.00  \n",
       "1             0.0    0.0   0.00  \n",
       "2             0.0    0.0   2.00  \n",
       "3             2.0    0.0   5.00  \n",
       "4             0.0    4.0   2.75  \n",
       "\n",
       "[5 rows x 284 columns]"
      ]
     },
     "execution_count": 35,
     "metadata": {},
     "output_type": "execute_result"
    }
   ],
   "source": [
    "# Add a user index column and set it as the index\n",
    "final_ratings_matrix['user_index'] = np.arange(0, final_ratings_matrix.shape[0])\n",
    "final_ratings_matrix.set_index(['user_index'], inplace=True)\n",
    "\n",
    "# Actual ratings given by users\n",
    "final_ratings_matrix.head()\n"
   ]
  },
  {
   "cell_type": "code",
   "execution_count": 36,
   "metadata": {
    "colab": {
     "base_uri": "https://localhost:8080/",
     "height": 331
    },
    "id": "F2SMc8lfeJqs",
    "outputId": "98d9417c-002b-459c-b1f9-bd35ced8ed5d"
   },
   "outputs": [
    {
     "data": {
      "text/html": [
       "<div>\n",
       "<style scoped>\n",
       "    .dataframe tbody tr th:only-of-type {\n",
       "        vertical-align: middle;\n",
       "    }\n",
       "\n",
       "    .dataframe tbody tr th {\n",
       "        vertical-align: top;\n",
       "    }\n",
       "\n",
       "    .dataframe thead th {\n",
       "        text-align: right;\n",
       "    }\n",
       "</style>\n",
       "<table border=\"1\" class=\"dataframe\">\n",
       "  <thead>\n",
       "    <tr style=\"text-align: right;\">\n",
       "      <th>product_id</th>\n",
       "      <th>10701</th>\n",
       "      <th>10702</th>\n",
       "      <th>10703</th>\n",
       "      <th>10704</th>\n",
       "      <th>10705</th>\n",
       "      <th>10706</th>\n",
       "      <th>10707</th>\n",
       "      <th>10708</th>\n",
       "      <th>10709</th>\n",
       "      <th>10710</th>\n",
       "      <th>...</th>\n",
       "      <th>11013</th>\n",
       "      <th>11014</th>\n",
       "      <th>11015</th>\n",
       "      <th>11016</th>\n",
       "      <th>11017</th>\n",
       "      <th>11018</th>\n",
       "      <th>11019</th>\n",
       "      <th>11020</th>\n",
       "      <th>11021</th>\n",
       "      <th>11022</th>\n",
       "    </tr>\n",
       "    <tr>\n",
       "      <th>user_index</th>\n",
       "      <th></th>\n",
       "      <th></th>\n",
       "      <th></th>\n",
       "      <th></th>\n",
       "      <th></th>\n",
       "      <th></th>\n",
       "      <th></th>\n",
       "      <th></th>\n",
       "      <th></th>\n",
       "      <th></th>\n",
       "      <th></th>\n",
       "      <th></th>\n",
       "      <th></th>\n",
       "      <th></th>\n",
       "      <th></th>\n",
       "      <th></th>\n",
       "      <th></th>\n",
       "      <th></th>\n",
       "      <th></th>\n",
       "      <th></th>\n",
       "      <th></th>\n",
       "    </tr>\n",
       "  </thead>\n",
       "  <tbody>\n",
       "    <tr>\n",
       "      <th>0</th>\n",
       "      <td>0.0</td>\n",
       "      <td>0.0</td>\n",
       "      <td>3.0</td>\n",
       "      <td>0.000000</td>\n",
       "      <td>0.0</td>\n",
       "      <td>0.0</td>\n",
       "      <td>5.0</td>\n",
       "      <td>0.0</td>\n",
       "      <td>5.0</td>\n",
       "      <td>0.0</td>\n",
       "      <td>...</td>\n",
       "      <td>0.0</td>\n",
       "      <td>0.0</td>\n",
       "      <td>0.0</td>\n",
       "      <td>4.5</td>\n",
       "      <td>0.0</td>\n",
       "      <td>5.0</td>\n",
       "      <td>0.0</td>\n",
       "      <td>0.0</td>\n",
       "      <td>0.0</td>\n",
       "      <td>0.00</td>\n",
       "    </tr>\n",
       "    <tr>\n",
       "      <th>1</th>\n",
       "      <td>0.0</td>\n",
       "      <td>3.0</td>\n",
       "      <td>0.0</td>\n",
       "      <td>0.000000</td>\n",
       "      <td>0.0</td>\n",
       "      <td>0.0</td>\n",
       "      <td>0.0</td>\n",
       "      <td>5.0</td>\n",
       "      <td>0.0</td>\n",
       "      <td>0.0</td>\n",
       "      <td>...</td>\n",
       "      <td>0.0</td>\n",
       "      <td>0.0</td>\n",
       "      <td>0.0</td>\n",
       "      <td>0.0</td>\n",
       "      <td>0.0</td>\n",
       "      <td>0.0</td>\n",
       "      <td>0.0</td>\n",
       "      <td>0.0</td>\n",
       "      <td>0.0</td>\n",
       "      <td>0.00</td>\n",
       "    </tr>\n",
       "    <tr>\n",
       "      <th>2</th>\n",
       "      <td>5.0</td>\n",
       "      <td>0.0</td>\n",
       "      <td>3.0</td>\n",
       "      <td>0.000000</td>\n",
       "      <td>5.0</td>\n",
       "      <td>5.0</td>\n",
       "      <td>3.5</td>\n",
       "      <td>0.0</td>\n",
       "      <td>4.0</td>\n",
       "      <td>0.0</td>\n",
       "      <td>...</td>\n",
       "      <td>4.0</td>\n",
       "      <td>4.0</td>\n",
       "      <td>4.0</td>\n",
       "      <td>4.0</td>\n",
       "      <td>4.0</td>\n",
       "      <td>0.0</td>\n",
       "      <td>3.0</td>\n",
       "      <td>0.0</td>\n",
       "      <td>0.0</td>\n",
       "      <td>2.00</td>\n",
       "    </tr>\n",
       "    <tr>\n",
       "      <th>3</th>\n",
       "      <td>0.0</td>\n",
       "      <td>0.0</td>\n",
       "      <td>4.0</td>\n",
       "      <td>0.000000</td>\n",
       "      <td>3.0</td>\n",
       "      <td>0.0</td>\n",
       "      <td>0.0</td>\n",
       "      <td>0.0</td>\n",
       "      <td>3.0</td>\n",
       "      <td>4.0</td>\n",
       "      <td>...</td>\n",
       "      <td>0.0</td>\n",
       "      <td>0.0</td>\n",
       "      <td>4.0</td>\n",
       "      <td>0.0</td>\n",
       "      <td>0.0</td>\n",
       "      <td>5.0</td>\n",
       "      <td>5.0</td>\n",
       "      <td>2.0</td>\n",
       "      <td>0.0</td>\n",
       "      <td>5.00</td>\n",
       "    </tr>\n",
       "    <tr>\n",
       "      <th>4</th>\n",
       "      <td>4.0</td>\n",
       "      <td>0.0</td>\n",
       "      <td>0.0</td>\n",
       "      <td>3.333333</td>\n",
       "      <td>3.0</td>\n",
       "      <td>5.0</td>\n",
       "      <td>0.0</td>\n",
       "      <td>5.0</td>\n",
       "      <td>0.0</td>\n",
       "      <td>2.0</td>\n",
       "      <td>...</td>\n",
       "      <td>3.0</td>\n",
       "      <td>0.0</td>\n",
       "      <td>0.0</td>\n",
       "      <td>5.0</td>\n",
       "      <td>0.0</td>\n",
       "      <td>2.5</td>\n",
       "      <td>2.5</td>\n",
       "      <td>0.0</td>\n",
       "      <td>4.0</td>\n",
       "      <td>2.75</td>\n",
       "    </tr>\n",
       "  </tbody>\n",
       "</table>\n",
       "<p>5 rows × 284 columns</p>\n",
       "</div>"
      ],
      "text/plain": [
       "product_id  10701  10702  10703     10704  10705  10706  10707  10708  10709  \\\n",
       "user_index                                                                     \n",
       "0             0.0    0.0    3.0  0.000000    0.0    0.0    5.0    0.0    5.0   \n",
       "1             0.0    3.0    0.0  0.000000    0.0    0.0    0.0    5.0    0.0   \n",
       "2             5.0    0.0    3.0  0.000000    5.0    5.0    3.5    0.0    4.0   \n",
       "3             0.0    0.0    4.0  0.000000    3.0    0.0    0.0    0.0    3.0   \n",
       "4             4.0    0.0    0.0  3.333333    3.0    5.0    0.0    5.0    0.0   \n",
       "\n",
       "product_id  10710  ...  11013  11014  11015  11016  11017  11018  11019  \\\n",
       "user_index         ...                                                    \n",
       "0             0.0  ...    0.0    0.0    0.0    4.5    0.0    5.0    0.0   \n",
       "1             0.0  ...    0.0    0.0    0.0    0.0    0.0    0.0    0.0   \n",
       "2             0.0  ...    4.0    4.0    4.0    4.0    4.0    0.0    3.0   \n",
       "3             4.0  ...    0.0    0.0    4.0    0.0    0.0    5.0    5.0   \n",
       "4             2.0  ...    3.0    0.0    0.0    5.0    0.0    2.5    2.5   \n",
       "\n",
       "product_id  11020  11021  11022  \n",
       "user_index                       \n",
       "0             0.0    0.0   0.00  \n",
       "1             0.0    0.0   0.00  \n",
       "2             0.0    0.0   2.00  \n",
       "3             2.0    0.0   5.00  \n",
       "4             0.0    4.0   2.75  \n",
       "\n",
       "[5 rows x 284 columns]"
      ]
     },
     "execution_count": 36,
     "metadata": {},
     "output_type": "execute_result"
    }
   ],
   "source": [
    "final_ratings_matrix.head()"
   ]
  },
  {
   "cell_type": "code",
   "execution_count": 37,
   "metadata": {
    "id": "TbuOsmOPefAY"
   },
   "outputs": [],
   "source": [
    "# defining a function to get similar users\n",
    "def similar_users(user_index, interactions_matrix):\n",
    "    similarity = []\n",
    "    for user in range(0, interactions_matrix.shape[0]): #  .shape[0] gives number of rows\n",
    "\n",
    "        #finding cosine similarity between the user_id and each user\n",
    "        sim = cosine_similarity([interactions_matrix.loc[user_index]], [interactions_matrix.loc[user]])\n",
    "\n",
    "        #Appending the user and the corresponding similarity score with user_id as a tuple\n",
    "        similarity.append((user,sim))\n",
    "\n",
    "    similarity.sort(key=lambda x: x[1], reverse=True)\n",
    "    most_similar_users = [tup[0] for tup in similarity] #Extract the user from each tuple in the sorted list\n",
    "    similarity_score = [tup[1] for tup in similarity] ##Extracting the similarity score from each tuple in the sorted list\n",
    "\n",
    "    #Remove the original user and its similarity score and keep only other similar users\n",
    "    most_similar_users.remove(user_index)\n",
    "    similarity_score.remove(similarity_score[0])\n",
    "\n",
    "    return most_similar_users, similarity_score"
   ]
  },
  {
   "cell_type": "code",
   "execution_count": 38,
   "metadata": {
    "colab": {
     "base_uri": "https://localhost:8080/"
    },
    "id": "QEYScqqbeo7G",
    "outputId": "f488b81f-35c3-4326-b74f-4d2c751df9cd"
   },
   "outputs": [
    {
     "data": {
      "text/plain": [
       "[338, 236, 113, 6, 367, 318, 412, 85, 5, 80]"
      ]
     },
     "execution_count": 38,
     "metadata": {},
     "output_type": "execute_result"
    }
   ],
   "source": [
    "similar = similar_users(152, final_ratings_matrix)[0][0:10]\n",
    "similar"
   ]
  },
  {
   "cell_type": "code",
   "execution_count": 39,
   "metadata": {
    "colab": {
     "base_uri": "https://localhost:8080/"
    },
    "id": "2sQ-PkVUesdd",
    "outputId": "59e42feb-422b-41af-be89-16967fc3cccc"
   },
   "outputs": [
    {
     "data": {
      "text/plain": [
       "[array([[0.6859484]]),\n",
       " array([[0.67396906]]),\n",
       " array([[0.66801578]]),\n",
       " array([[0.65779889]]),\n",
       " array([[0.65574999]]),\n",
       " array([[0.6556004]]),\n",
       " array([[0.6549913]]),\n",
       " array([[0.65229331]]),\n",
       " array([[0.65037249]]),\n",
       " array([[0.65003591]])]"
      ]
     },
     "execution_count": 39,
     "metadata": {},
     "output_type": "execute_result"
    }
   ],
   "source": [
    "#Print the similarity score\n",
    "similar_users(152,final_ratings_matrix)[1][0:10]"
   ]
  },
  {
   "cell_type": "code",
   "execution_count": 40,
   "metadata": {
    "id": "7U5rqJCAe6as"
   },
   "outputs": [],
   "source": [
    "def recommendations(user_index, num_of_products, interactions_matrix):\n",
    "\n",
    "    #Saving similar users using the function similar_users defined above\n",
    "    most_similar_users = similar_users(user_index, interactions_matrix)[0]\n",
    "\n",
    "    #Finding product IDs with which the user_id has interacted\n",
    "    prod_ids = set(list(interactions_matrix.columns[np.where(interactions_matrix.loc[user_index] > 0)]))\n",
    "    recommendations = []\n",
    "\n",
    "    observed_interactions = prod_ids.copy()\n",
    "    for similar_user in most_similar_users:\n",
    "        if len(recommendations) < num_of_products:\n",
    "\n",
    "            #Finding 'n' products which have been rated by similar users but not by the user_id\n",
    "            similar_user_prod_ids = set(list(interactions_matrix.columns[np.where(interactions_matrix.loc[similar_user] > 0)]))\n",
    "            recommendations.extend(list(similar_user_prod_ids.difference(observed_interactions)))\n",
    "            observed_interactions = observed_interactions.union(similar_user_prod_ids)\n",
    "        else:\n",
    "            break\n",
    "\n",
    "    return recommendations[:num_of_products]"
   ]
  },
  {
   "cell_type": "code",
   "execution_count": 41,
   "metadata": {
    "colab": {
     "base_uri": "https://localhost:8080/"
    },
    "id": "8LrNjWwSe-Eg",
    "outputId": "92e1ca23-208f-48c0-9d6c-54efed71ffad"
   },
   "outputs": [
    {
     "data": {
      "text/plain": [
       "[10756, 10758, 10766, 10771, 10774]"
      ]
     },
     "execution_count": 41,
     "metadata": {},
     "output_type": "execute_result"
    }
   ],
   "source": [
    "recommendations(3,5,final_ratings_matrix)"
   ]
  },
  {
   "cell_type": "code",
   "execution_count": 42,
   "metadata": {
    "colab": {
     "base_uri": "https://localhost:8080/"
    },
    "id": "NNEmC3ICfBBS",
    "outputId": "e107e94a-5f30-40d4-87fe-d67e97c4304d"
   },
   "outputs": [
    {
     "data": {
      "text/plain": [
       "[10753, 10754, 10755, 11012, 10885]"
      ]
     },
     "execution_count": 42,
     "metadata": {},
     "output_type": "execute_result"
    }
   ],
   "source": [
    "recommendations(152,5,final_ratings_matrix)"
   ]
  }
 ],
 "metadata": {
  "colab": {
   "provenance": []
  },
  "kernelspec": {
   "display_name": "Python 3 (ipykernel)",
   "language": "python",
   "name": "python3"
  },
  "language_info": {
   "codemirror_mode": {
    "name": "ipython",
    "version": 3
   },
   "file_extension": ".py",
   "mimetype": "text/x-python",
   "name": "python",
   "nbconvert_exporter": "python",
   "pygments_lexer": "ipython3",
   "version": "3.10.9"
  }
 },
 "nbformat": 4,
 "nbformat_minor": 1
}

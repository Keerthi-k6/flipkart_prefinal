{
 "cells": [
  {
   "cell_type": "code",
   "execution_count": null,
   "metadata": {
    "id": "cSCdnoV-fex8"
   },
   "outputs": [],
   "source": [
    "import warnings\n",
    "warnings.filterwarnings('ignore')\n",
    "\n",
    "import numpy as np\n",
    "import pandas as pd\n",
    "\n",
    "import matplotlib.pyplot as plt\n",
    "import seaborn as sns\n",
    "\n",
    "from sklearn.metrics.pairwise import cosine_similarity\n",
    "\n",
    "from sklearn.metrics import mean_squared_error"
   ]
  },
  {
   "cell_type": "code",
   "execution_count": null,
   "metadata": {
    "id": "S6-ePjb5gEEF"
   },
   "outputs": [],
   "source": [
    "df = pd.read_csv('interactions_information.csv', header=None)\n",
    "\n",
    "df.columns = ['user_id', 'product_id', 'categorie', 'sub_categorie','rating']\n",
    "\n",
    "df_copy = df.copy(deep=True)"
   ]
  },
  {
   "cell_type": "code",
   "execution_count": null,
   "metadata": {
    "colab": {
     "base_uri": "https://localhost:8080/"
    },
    "id": "ig18tLd5gF83",
    "outputId": "f15ef5e8-683f-43e1-b213-6b98a56165e5"
   },
   "outputs": [],
   "source": [
    "rows, columns = df.shape\n",
    "print(\"No of rows = \", rows)\n",
    "print(\"No of columns = \", columns)"
   ]
  },
  {
   "cell_type": "code",
   "execution_count": null,
   "metadata": {
    "colab": {
     "base_uri": "https://localhost:8080/"
    },
    "id": "4wS_EggEgIV1",
    "outputId": "dde0a2ca-b0a6-4141-bc25-66c55d0f1672"
   },
   "outputs": [],
   "source": [
    "df.info()"
   ]
  },
  {
   "cell_type": "code",
   "execution_count": null,
   "metadata": {
    "colab": {
     "base_uri": "https://localhost:8080/"
    },
    "id": "58gAEul-gLG-",
    "outputId": "0117da85-f4fb-4027-b722-6029aab14144"
   },
   "outputs": [],
   "source": [
    "df.isna().sum()"
   ]
  },
  {
   "cell_type": "code",
   "execution_count": null,
   "metadata": {
    "colab": {
     "base_uri": "https://localhost:8080/",
     "height": 479
    },
    "id": "mox_S9ALgPtD",
    "outputId": "f997258b-1a83-41bc-91d2-d12ef89110aa"
   },
   "outputs": [],
   "source": [
    "plt.figure(figsize = (12,6))\n",
    "df['rating'].value_counts(1).plot(kind='bar')\n",
    "plt.show()"
   ]
  },
  {
   "cell_type": "code",
   "execution_count": null,
   "metadata": {
    "colab": {
     "base_uri": "https://localhost:8080/"
    },
    "id": "dPooVnR6gQk8",
    "outputId": "49e762f8-e647-4e94-821d-ab9572a2f082"
   },
   "outputs": [],
   "source": [
    "print('Number of unique USERS in Raw data = ', df['user_id'].nunique())\n",
    "print('Number of unique ITEMS in Raw data = ', df['product_id'].nunique())"
   ]
  },
  {
   "cell_type": "code",
   "execution_count": null,
   "metadata": {
    "colab": {
     "base_uri": "https://localhost:8080/"
    },
    "id": "v8SiIpLpgT9C",
    "outputId": "a4e6d4de-8d99-47aa-a3a4-6be5be56fb05"
   },
   "outputs": [],
   "source": [
    "most_rated = df.groupby('user_id').size().sort_values(ascending=False)[:10]\n",
    "most_rated"
   ]
  },
  {
   "cell_type": "code",
   "execution_count": null,
   "metadata": {
    "id": "1wAPatSugWaZ"
   },
   "outputs": [],
   "source": [
    "counts = df['user_id'].value_counts()\n",
    "df_final = df[df['user_id'].isin(counts[counts >= 50].index)]"
   ]
  },
  {
   "cell_type": "code",
   "execution_count": null,
   "metadata": {
    "colab": {
     "base_uri": "https://localhost:8080/"
    },
    "id": "UVRWP2SdgY7c",
    "outputId": "01f68e09-b602-446a-95fe-8913ecc397bc"
   },
   "outputs": [],
   "source": [
    "print('The number of observations in the final data =', len(df_final))\n",
    "print('Number of unique USERS in the final data = ', df_final['user_id'].nunique())\n",
    "print('Number of unique PRODUCTS in the final data = ', df_final['product_id'].nunique())"
   ]
  },
  {
   "cell_type": "code",
   "execution_count": null,
   "metadata": {
    "id": "BoJKjbuDgdEB"
   },
   "outputs": [],
   "source": [
    "aggregated_df = df_final.groupby(['user_id', 'product_id'])['rating'].mean().reset_index()"
   ]
  },
  {
   "cell_type": "code",
   "execution_count": null,
   "metadata": {
    "id": "9mxwTMhQgePt"
   },
   "outputs": [],
   "source": [
    "final_ratings_matrix = aggregated_df.pivot_table(index='user_id', columns='product_id', values='rating', fill_value=0)\n"
   ]
  },
  {
   "cell_type": "code",
   "execution_count": null,
   "metadata": {
    "colab": {
     "base_uri": "https://localhost:8080/"
    },
    "id": "j2Y3a2JHgi1t",
    "outputId": "768dbdb4-d884-493d-905b-7988e521b13e"
   },
   "outputs": [],
   "source": [
    "given_num_of_ratings = np.count_nonzero(final_ratings_matrix)\n",
    "possible_num_of_ratings = final_ratings_matrix.shape[0] * final_ratings_matrix.shape[1]\n",
    "density = (given_num_of_ratings / possible_num_of_ratings) * 100\n",
    "\n",
    "print('Shape of final_ratings_matrix:', final_ratings_matrix.shape)\n",
    "print('given_num_of_ratings =', given_num_of_ratings)\n",
    "print('possible_num_of_ratings =', possible_num_of_ratings)\n",
    "print('density: {:4.2f}%'.format(density))"
   ]
  },
  {
   "cell_type": "code",
   "execution_count": null,
   "metadata": {
    "colab": {
     "base_uri": "https://localhost:8080/",
     "height": 331
    },
    "id": "L2dESTQzgngi",
    "outputId": "7a26b4ec-d745-4a54-9752-efd1970998d7"
   },
   "outputs": [],
   "source": [
    "final_ratings_matrix.head()\n"
   ]
  },
  {
   "cell_type": "code",
   "execution_count": null,
   "metadata": {
    "colab": {
     "base_uri": "https://localhost:8080/",
     "height": 331
    },
    "id": "oAHlfFN7go9B",
    "outputId": "74a7801a-9b84-4e08-fda3-ae17bd0b33f5"
   },
   "outputs": [],
   "source": [
    "final_ratings_matrix['user_index'] = np.arange(0, final_ratings_matrix.shape[0])\n",
    "final_ratings_matrix.set_index(['user_index'], inplace=True)\n",
    "\n",
    "# Actual ratings given by users\n",
    "final_ratings_matrix.head()\n"
   ]
  },
  {
   "cell_type": "code",
   "execution_count": null,
   "metadata": {
    "id": "-qdqn5F2grtA"
   },
   "outputs": [],
   "source": [
    "# defining a function to get similar users\n",
    "def similar_users(user_index, interactions_matrix):\n",
    "    similarity = []\n",
    "    for user in range(0, interactions_matrix.shape[0]): #  .shape[0] gives number of rows\n",
    "\n",
    "        #finding cosine similarity between the user_id and each user\n",
    "        sim = cosine_similarity([interactions_matrix.loc[user_index]], [interactions_matrix.loc[user]])\n",
    "\n",
    "        #Appending the user and the corresponding similarity score with user_id as a tuple\n",
    "        similarity.append((user,sim))\n",
    "\n",
    "    similarity.sort(key=lambda x: x[1], reverse=True)\n",
    "    most_similar_users = [tup[0] for tup in similarity] #Extract the user from each tuple in the sorted list\n",
    "    similarity_score = [tup[1] for tup in similarity] ##Extracting the similarity score from each tuple in the sorted list\n",
    "\n",
    "    #Remove the original user and its similarity score and keep only other similar users\n",
    "    most_similar_users.remove(user_index)\n",
    "    similarity_score.remove(similarity_score[0])\n",
    "\n",
    "    return most_similar_users, similarity_score"
   ]
  },
  {
   "cell_type": "code",
   "execution_count": null,
   "metadata": {
    "colab": {
     "base_uri": "https://localhost:8080/"
    },
    "id": "GbCfCyYsgu6Q",
    "outputId": "bef778de-3787-4cc2-94c9-762b5cc34ee9"
   },
   "outputs": [],
   "source": [
    "similar = similar_users(3,final_ratings_matrix)[0][0:10]\n",
    "similar\n"
   ]
  },
  {
   "cell_type": "code",
   "execution_count": null,
   "metadata": {
    "colab": {
     "base_uri": "https://localhost:8080/"
    },
    "id": "ocy5FIv-gyDd",
    "outputId": "3abffefc-d790-4403-dcaf-fb28dc750c5f"
   },
   "outputs": [],
   "source": [
    "similar_users(3,final_ratings_matrix)[1][0:10]"
   ]
  },
  {
   "cell_type": "code",
   "execution_count": null,
   "metadata": {
    "colab": {
     "base_uri": "https://localhost:8080/"
    },
    "id": "nyBS4nDqg2PG",
    "outputId": "c15558f6-8cf6-43f0-d79d-b779dcf3ad53"
   },
   "outputs": [],
   "source": [
    "similar = similar_users(152, final_ratings_matrix)[0][0:10]\n",
    "similar"
   ]
  },
  {
   "cell_type": "code",
   "execution_count": null,
   "metadata": {
    "colab": {
     "base_uri": "https://localhost:8080/"
    },
    "id": "cj0Xazt8g3Wf",
    "outputId": "caa8b470-0ce2-45f1-9964-13694bcbfb70"
   },
   "outputs": [],
   "source": [
    "#Print the similarity score\n",
    "similar_users(152,final_ratings_matrix)[1][0:10]"
   ]
  },
  {
   "cell_type": "code",
   "execution_count": null,
   "metadata": {
    "id": "sxm1lFUQg5_i"
   },
   "outputs": [],
   "source": [
    "def recommendations(user_index, num_of_products, interactions_matrix):\n",
    "\n",
    "    #Saving similar users using the function similar_users defined above\n",
    "    most_similar_users = similar_users(user_index, interactions_matrix)[0]\n",
    "\n",
    "    #Finding product IDs with which the user_id has interacted\n",
    "    prod_ids = set(list(interactions_matrix.columns[np.where(interactions_matrix.loc[user_index] > 0)]))\n",
    "    recommendations = []\n",
    "\n",
    "    observed_interactions = prod_ids.copy()\n",
    "    for similar_user in most_similar_users:\n",
    "        if len(recommendations) < num_of_products:\n",
    "\n",
    "            #Finding 'n' products which have been rated by similar users but not by the user_id\n",
    "            similar_user_prod_ids = set(list(interactions_matrix.columns[np.where(interactions_matrix.loc[similar_user] > 0)]))\n",
    "            recommendations.extend(list(similar_user_prod_ids.difference(observed_interactions)))\n",
    "            observed_interactions = observed_interactions.union(similar_user_prod_ids)\n",
    "        else:\n",
    "            break\n",
    "\n",
    "    return recommendations[:num_of_products]"
   ]
  },
  {
   "cell_type": "code",
   "execution_count": null,
   "metadata": {
    "colab": {
     "base_uri": "https://localhost:8080/"
    },
    "id": "q9Ylidx-hAoK",
    "outputId": "c0defa93-0c9d-4935-8afb-bd4900579c5c"
   },
   "outputs": [],
   "source": [
    "recommendations(3,5,final_ratings_matrix)"
   ]
  },
  {
   "cell_type": "code",
   "execution_count": null,
   "metadata": {
    "colab": {
     "base_uri": "https://localhost:8080/"
    },
    "id": "yhjhBo8XhDW_",
    "outputId": "faecf4c2-1fdd-4f95-9fb0-b61fc7c236cc"
   },
   "outputs": [],
   "source": [
    "recommendations(152,5,final_ratings_matrix)"
   ]
  },
  {
   "cell_type": "code",
   "execution_count": null,
   "metadata": {
    "id": "vPu7eNpjhF1Z"
   },
   "outputs": [],
   "source": [
    "from scipy.sparse import csr_matrix\n",
    "final_ratings_sparse = csr_matrix(final_ratings_matrix.values)\n",
    "\n"
   ]
  },
  {
   "cell_type": "code",
   "execution_count": null,
   "metadata": {
    "id": "S0oXDEROhJte"
   },
   "outputs": [],
   "source": [
    "from scipy.sparse.linalg import svds\n",
    "U, s, Vt = svds(final_ratings_sparse, k = 250) # here k is the number of latent features\n",
    "\n",
    "# Construct diagonal array in SVD\n",
    "sigma = np.diag(s)"
   ]
  },
  {
   "cell_type": "code",
   "execution_count": null,
   "metadata": {
    "colab": {
     "base_uri": "https://localhost:8080/"
    },
    "id": "hLhc5g5KhMFG",
    "outputId": "01c41565-231f-4a53-f9c1-9ca8372eeca9"
   },
   "outputs": [],
   "source": [
    "U.shape"
   ]
  },
  {
   "cell_type": "code",
   "execution_count": null,
   "metadata": {
    "colab": {
     "base_uri": "https://localhost:8080/"
    },
    "id": "durgO600hdZf",
    "outputId": "d054f0b4-ba1e-49bc-c29f-569baab8d1b0"
   },
   "outputs": [],
   "source": [
    "sigma.shape\n"
   ]
  },
  {
   "cell_type": "code",
   "execution_count": null,
   "metadata": {
    "colab": {
     "base_uri": "https://localhost:8080/"
    },
    "id": "THobXji2hgPy",
    "outputId": "58aa8793-a48e-4e7b-c8cf-765c6d35fa5d"
   },
   "outputs": [],
   "source": [
    "Vt.shape"
   ]
  },
  {
   "cell_type": "code",
   "execution_count": null,
   "metadata": {
    "id": "tUDXbzObhls6"
   },
   "outputs": [],
   "source": [
    "all_user_predicted_ratings = np.dot(np.dot(U, sigma), Vt)\n",
    "\n",
    "# Predicted ratings\n",
    "preds_df = pd.DataFrame(abs(all_user_predicted_ratings), columns = final_ratings_matrix.columns)\n",
    "preds_df.head()\n",
    "preds_matrix = csr_matrix(preds_df.values)"
   ]
  },
  {
   "cell_type": "code",
   "execution_count": null,
   "metadata": {
    "id": "my78NSVMhnUl"
   },
   "outputs": [],
   "source": [
    "import numpy as np\n",
    "\n",
    "def recommend_items(user_index, interactions_matrix, preds_matrix, num_recommendations):\n",
    "\n",
    "    # Get the user's ratings from the actual and predicted interaction matrices\n",
    "    user_ratings = interactions_matrix[user_index,:].toarray().reshape(-1)\n",
    "    user_predictions = preds_matrix[user_index,:].toarray().reshape(-1)\n",
    "\n",
    "    #Creating a dataframe with actual and predicted ratings columns\n",
    "    temp = pd.DataFrame({'user_ratings': user_ratings, 'user_predictions': user_predictions})\n",
    "    temp['Recommended Products'] = np.arange(len(user_ratings))\n",
    "    temp = temp.set_index('Recommended Products')\n",
    "\n",
    "    #Filtering the dataframe where actual ratings are 0 which implies that the user has not interacted with that product\n",
    "    temp = temp.loc[temp.user_ratings == 0]\n",
    "\n",
    "    #Recommending products with top predicted ratings\n",
    "    temp = temp.sort_values('user_predictions',ascending=False)#Sort the dataframe by user_predictions in descending order\n",
    "    print('\\nBelow are the recommended products for user(user_id = {}):\\n'.format(user_index))\n",
    "    print(temp['user_predictions'].head(num_recommendations))"
   ]
  },
  {
   "cell_type": "code",
   "execution_count": null,
   "metadata": {
    "colab": {
     "base_uri": "https://localhost:8080/"
    },
    "id": "Q_b38QyUhqkS",
    "outputId": "0a9ea50b-9f1e-46c9-86e1-14c5226defda"
   },
   "outputs": [],
   "source": [
    "#Enter 'user index' and 'num_recommendations' for the user\n",
    "recommend_items(1,final_ratings_sparse,preds_matrix,5)\n"
   ]
  },
  {
   "cell_type": "code",
   "execution_count": null,
   "metadata": {
    "id": "MKTutdxBmFXW"
   },
   "outputs": [],
   "source": [
    "import warnings\n",
    "warnings.filterwarnings('ignore')\n",
    "\n",
    "import numpy as np\n",
    "import pandas as pd\n",
    "\n",
    "import matplotlib.pyplot as plt\n",
    "import seaborn as sns\n",
    "\n",
    "from sklearn.metrics.pairwise import cosine_similarity\n",
    "\n",
    "from sklearn.metrics import mean_squared_error"
   ]
  },
  {
   "cell_type": "code",
   "execution_count": null,
   "metadata": {
    "id": "RiXX3HpGmFXY"
   },
   "outputs": [],
   "source": [
    "df = pd.read_csv('interactions_information.csv', header=None)\n",
    "\n",
    "df.columns = ['user_id', 'product_id', 'categorie', 'sub_categorie','rating']\n",
    "\n",
    "df_copy = df.copy(deep=True)"
   ]
  },
  {
   "cell_type": "code",
   "execution_count": null,
   "metadata": {
    "colab": {
     "base_uri": "https://localhost:8080/"
    },
    "id": "j7-j-XoamFXZ",
    "outputId": "93025bc7-ff3a-42da-92ea-6f5a99dc7d2a"
   },
   "outputs": [],
   "source": [
    "rows, columns = df.shape\n",
    "print(\"No of rows = \", rows)\n",
    "print(\"No of columns = \", columns)"
   ]
  },
  {
   "cell_type": "code",
   "execution_count": null,
   "metadata": {
    "colab": {
     "base_uri": "https://localhost:8080/"
    },
    "id": "rFt6mQYcmFXZ",
    "outputId": "5f6e19c3-2ab3-41d7-c016-e74693d30bde"
   },
   "outputs": [],
   "source": [
    "df.info()"
   ]
  },
  {
   "cell_type": "code",
   "execution_count": null,
   "metadata": {
    "colab": {
     "base_uri": "https://localhost:8080/"
    },
    "id": "IokyOITmmFXa",
    "outputId": "c891e1ab-6128-4661-f4b0-475ac5e50866"
   },
   "outputs": [],
   "source": [
    "df.isna().sum()"
   ]
  },
  {
   "cell_type": "code",
   "execution_count": null,
   "metadata": {
    "colab": {
     "base_uri": "https://localhost:8080/",
     "height": 479
    },
    "id": "DeJ5plEqmFXa",
    "outputId": "03863134-02aa-4de1-c973-1f65bd6755f6"
   },
   "outputs": [],
   "source": [
    "plt.figure(figsize = (12,6))\n",
    "df['rating'].value_counts(1).plot(kind='bar')\n",
    "plt.show()"
   ]
  },
  {
   "cell_type": "code",
   "execution_count": null,
   "metadata": {
    "colab": {
     "base_uri": "https://localhost:8080/"
    },
    "id": "QkhDMT06mFXb",
    "outputId": "e49cc75c-087b-4e49-db69-a1aec17bb4be"
   },
   "outputs": [],
   "source": [
    "print('Number of unique USERS in Raw data = ', df['user_id'].nunique())\n",
    "print('Number of unique ITEMS in Raw data = ', df['product_id'].nunique())"
   ]
  },
  {
   "cell_type": "code",
   "execution_count": null,
   "metadata": {
    "colab": {
     "base_uri": "https://localhost:8080/"
    },
    "id": "p7LDR8_amFXb",
    "outputId": "df1682b5-e211-4d92-d1b1-b4295e4b6958"
   },
   "outputs": [],
   "source": [
    "most_rated = df.groupby('user_id').size().sort_values(ascending=False)[:10]\n",
    "most_rated"
   ]
  },
  {
   "cell_type": "code",
   "execution_count": null,
   "metadata": {
    "id": "iA2xRAH0mFXb"
   },
   "outputs": [],
   "source": [
    "counts = df['user_id'].value_counts()\n",
    "df_final = df[df['user_id'].isin(counts[counts >= 50].index)]"
   ]
  },
  {
   "cell_type": "code",
   "execution_count": null,
   "metadata": {
    "colab": {
     "base_uri": "https://localhost:8080/"
    },
    "id": "ZDEmbg0ZmFXc",
    "outputId": "ad8ff077-57b6-4495-9113-83c89d437282"
   },
   "outputs": [],
   "source": [
    "print('The number of observations in the final data =', len(df_final))\n",
    "print('Number of unique USERS in the final data = ', df_final['user_id'].nunique())\n",
    "print('Number of unique PRODUCTS in the final data = ', df_final['product_id'].nunique())"
   ]
  },
  {
   "cell_type": "code",
   "execution_count": null,
   "metadata": {
    "id": "JPVI-PcjmFXc"
   },
   "outputs": [],
   "source": [
    "aggregated_df = df_final.groupby(['user_id', 'product_id'])['rating'].mean().reset_index()"
   ]
  },
  {
   "cell_type": "code",
   "execution_count": null,
   "metadata": {
    "id": "SY88CbBTmFXc"
   },
   "outputs": [],
   "source": [
    "final_ratings_matrix = aggregated_df.pivot_table(index='user_id', columns='product_id', values='rating', fill_value=0)\n"
   ]
  },
  {
   "cell_type": "code",
   "execution_count": null,
   "metadata": {
    "colab": {
     "base_uri": "https://localhost:8080/"
    },
    "id": "w1R8D-7RmFXd",
    "outputId": "02871b2f-e6c2-41bd-d9ac-b1f91d0e8435"
   },
   "outputs": [],
   "source": [
    "given_num_of_ratings = np.count_nonzero(final_ratings_matrix)\n",
    "possible_num_of_ratings = final_ratings_matrix.shape[0] * final_ratings_matrix.shape[1]\n",
    "density = (given_num_of_ratings / possible_num_of_ratings) * 100\n",
    "\n",
    "print('Shape of final_ratings_matrix:', final_ratings_matrix.shape)\n",
    "print('given_num_of_ratings =', given_num_of_ratings)\n",
    "print('possible_num_of_ratings =', possible_num_of_ratings)\n",
    "print('density: {:4.2f}%'.format(density))"
   ]
  },
  {
   "cell_type": "code",
   "execution_count": null,
   "metadata": {
    "colab": {
     "base_uri": "https://localhost:8080/",
     "height": 331
    },
    "id": "KcJYLT3qmFXd",
    "outputId": "d450a314-8302-49d4-f01e-ccdc23d090cf"
   },
   "outputs": [],
   "source": [
    "final_ratings_matrix.head()\n"
   ]
  },
  {
   "cell_type": "code",
   "execution_count": null,
   "metadata": {
    "colab": {
     "base_uri": "https://localhost:8080/",
     "height": 331
    },
    "id": "IYsjNC-ymFXe",
    "outputId": "da233ea7-1a54-45f6-934e-f8d9d95cc9b7"
   },
   "outputs": [],
   "source": [
    "final_ratings_matrix['user_index'] = np.arange(0, final_ratings_matrix.shape[0])\n",
    "final_ratings_matrix.set_index(['user_index'], inplace=True)\n",
    "\n",
    "# Actual ratings given by users\n",
    "final_ratings_matrix.head()\n"
   ]
  },
  {
   "cell_type": "code",
   "execution_count": null,
   "metadata": {
    "id": "-O-XqTpxmFXe"
   },
   "outputs": [],
   "source": [
    "# defining a function to get similar users\n",
    "def similar_users(user_index, interactions_matrix):\n",
    "    similarity = []\n",
    "    for user in range(0, interactions_matrix.shape[0]): #  .shape[0] gives number of rows\n",
    "\n",
    "        #finding cosine similarity between the user_id and each user\n",
    "        sim = cosine_similarity([interactions_matrix.loc[user_index]], [interactions_matrix.loc[user]])\n",
    "\n",
    "        #Appending the user and the corresponding similarity score with user_id as a tuple\n",
    "        similarity.append((user,sim))\n",
    "\n",
    "    similarity.sort(key=lambda x: x[1], reverse=True)\n",
    "    most_similar_users = [tup[0] for tup in similarity] #Extract the user from each tuple in the sorted list\n",
    "    similarity_score = [tup[1] for tup in similarity] ##Extracting the similarity score from each tuple in the sorted list\n",
    "\n",
    "    #Remove the original user and its similarity score and keep only other similar users\n",
    "    most_similar_users.remove(user_index)\n",
    "    similarity_score.remove(similarity_score[0])\n",
    "\n",
    "    return most_similar_users, similarity_score"
   ]
  },
  {
   "cell_type": "code",
   "execution_count": null,
   "metadata": {
    "colab": {
     "base_uri": "https://localhost:8080/"
    },
    "id": "9dOrxJB2mFXe",
    "outputId": "9c8f041e-5bf2-4201-d38d-a72050cc2b0d"
   },
   "outputs": [],
   "source": [
    "similar_users(3,final_ratings_matrix)[1][0:10]"
   ]
  },
  {
   "cell_type": "code",
   "execution_count": null,
   "metadata": {
    "colab": {
     "base_uri": "https://localhost:8080/"
    },
    "id": "-MrgV8qqmFXe",
    "outputId": "8870e058-932a-4263-c604-11b8ca7637a0"
   },
   "outputs": [],
   "source": [
    "similar = similar_users(152, final_ratings_matrix)[0][0:10]\n",
    "similar"
   ]
  },
  {
   "cell_type": "code",
   "execution_count": null,
   "metadata": {
    "colab": {
     "base_uri": "https://localhost:8080/"
    },
    "id": "pnGh-IrZmFXe",
    "outputId": "03019b94-68dc-4792-e7fd-3220ef6f7d72"
   },
   "outputs": [],
   "source": [
    "#Print the similarity score\n",
    "similar_users(152,final_ratings_matrix)[1][0:10]"
   ]
  },
  {
   "cell_type": "code",
   "execution_count": null,
   "metadata": {
    "id": "fbgDfVRvmFXf"
   },
   "outputs": [],
   "source": [
    "def recommendations(user_index, num_of_products, interactions_matrix):\n",
    "\n",
    "    #Saving similar users using the function similar_users defined above\n",
    "    most_similar_users = similar_users(user_index, interactions_matrix)[0]\n",
    "\n",
    "    #Finding product IDs with which the user_id has interacted\n",
    "    prod_ids = set(list(interactions_matrix.columns[np.where(interactions_matrix.loc[user_index] > 0)]))\n",
    "    recommendations = []\n",
    "\n",
    "    observed_interactions = prod_ids.copy()\n",
    "    for similar_user in most_similar_users:\n",
    "        if len(recommendations) < num_of_products:\n",
    "\n",
    "            #Finding 'n' products which have been rated by similar users but not by the user_id\n",
    "            similar_user_prod_ids = set(list(interactions_matrix.columns[np.where(interactions_matrix.loc[similar_user] > 0)]))\n",
    "            recommendations.extend(list(similar_user_prod_ids.difference(observed_interactions)))\n",
    "            observed_interactions = observed_interactions.union(similar_user_prod_ids)\n",
    "        else:\n",
    "            break\n",
    "\n",
    "    return recommendations[:num_of_products]"
   ]
  },
  {
   "cell_type": "code",
   "execution_count": null,
   "metadata": {
    "colab": {
     "base_uri": "https://localhost:8080/"
    },
    "id": "2NgBtPwnmFXf",
    "outputId": "27f5ba8b-97d8-4431-8d50-be49a14fa1ac"
   },
   "outputs": [],
   "source": [
    "recommendations(3,5,final_ratings_matrix)"
   ]
  },
  {
   "cell_type": "code",
   "execution_count": null,
   "metadata": {
    "colab": {
     "base_uri": "https://localhost:8080/"
    },
    "id": "u1GB1E94mFXf",
    "outputId": "2789d7c1-f07e-45c8-ae5f-42cb81a28669"
   },
   "outputs": [],
   "source": [
    "recommendations(152,5,final_ratings_matrix)"
   ]
  },
  {
   "cell_type": "code",
   "execution_count": null,
   "metadata": {
    "id": "45pXNnwBmFXf"
   },
   "outputs": [],
   "source": [
    "from scipy.sparse import csr_matrix\n",
    "final_ratings_sparse = csr_matrix(final_ratings_matrix.values)\n",
    "\n"
   ]
  },
  {
   "cell_type": "code",
   "execution_count": null,
   "metadata": {
    "id": "O967VlnBmFXf"
   },
   "outputs": [],
   "source": [
    "from scipy.sparse.linalg import svds\n",
    "U, s, Vt = svds(final_ratings_sparse, k = 250) # here k is the number of latent features\n",
    "\n",
    "# Construct diagonal array in SVD\n",
    "sigma = np.diag(s)"
   ]
  },
  {
   "cell_type": "code",
   "execution_count": null,
   "metadata": {
    "colab": {
     "base_uri": "https://localhost:8080/"
    },
    "id": "rodfxoRomFXf",
    "outputId": "dad8e38e-e287-42ca-a163-ff12ffe522d0"
   },
   "outputs": [],
   "source": [
    "U.shape"
   ]
  },
  {
   "cell_type": "code",
   "execution_count": null,
   "metadata": {
    "colab": {
     "base_uri": "https://localhost:8080/"
    },
    "id": "N5G7vpgEmFXg",
    "outputId": "f124ab57-e56f-45fb-d516-c97ff835099f"
   },
   "outputs": [],
   "source": [
    "sigma.shape\n"
   ]
  },
  {
   "cell_type": "code",
   "execution_count": null,
   "metadata": {
    "colab": {
     "base_uri": "https://localhost:8080/"
    },
    "id": "Y5kPRYtOmFXg",
    "outputId": "53ff2f2f-6c57-49c0-d170-2f417bc4e6fa"
   },
   "outputs": [],
   "source": [
    "Vt.shape"
   ]
  },
  {
   "cell_type": "code",
   "execution_count": null,
   "metadata": {
    "id": "n0jMl22bmFXg"
   },
   "outputs": [],
   "source": [
    "all_user_predicted_ratings = np.dot(np.dot(U, sigma), Vt)\n",
    "\n",
    "# Predicted ratings\n",
    "preds_df = pd.DataFrame(abs(all_user_predicted_ratings), columns = final_ratings_matrix.columns)\n",
    "preds_df.head()\n",
    "preds_matrix = csr_matrix(preds_df.values)"
   ]
  },
  {
   "cell_type": "code",
   "execution_count": null,
   "metadata": {
    "id": "1vtdONUjmFXg"
   },
   "outputs": [],
   "source": [
    "import numpy as np\n",
    "\n",
    "def recommend_items(user_index, interactions_matrix, preds_matrix, num_recommendations):\n",
    "\n",
    "    # Get the user's ratings from the actual and predicted interaction matrices\n",
    "    user_ratings = interactions_matrix[user_index,:].toarray().reshape(-1)\n",
    "    user_predictions = preds_matrix[user_index,:].toarray().reshape(-1)\n",
    "\n",
    "    #Creating a dataframe with actual and predicted ratings columns\n",
    "    temp = pd.DataFrame({'user_ratings': user_ratings, 'user_predictions': user_predictions})\n",
    "    temp['Recommended Products'] = np.arange(len(user_ratings))\n",
    "    temp = temp.set_index('Recommended Products')\n",
    "\n",
    "    #Filtering the dataframe where actual ratings are 0 which implies that the user has not interacted with that product\n",
    "    temp = temp.loc[temp.user_ratings == 0]\n",
    "\n",
    "    #Recommending products with top predicted ratings\n",
    "    temp = temp.sort_values('user_predictions',ascending=False)#Sort the dataframe by user_predictions in descending order\n",
    "    print('\\nBelow are the recommended products for user(user_id = {}):\\n'.format(user_index))\n",
    "    print(temp['user_predictions'].head(num_recommendations))"
   ]
  },
  {
   "cell_type": "code",
   "execution_count": null,
   "metadata": {
    "colab": {
     "base_uri": "https://localhost:8080/"
    },
    "id": "GKMNAgjxmFXg",
    "outputId": "1b98c103-c0bc-4c51-bb45-cb63e9bb1370"
   },
   "outputs": [],
   "source": [
    "#Enter 'user index' and 'num_recommendations' for the user\n",
    "recommend_items(1,final_ratings_sparse,preds_matrix,5)\n"
   ]
  },
  {
   "cell_type": "code",
   "execution_count": null,
   "metadata": {
    "colab": {
     "base_uri": "https://localhost:8080/"
    },
    "id": "vkO3Bj9mmFXg",
    "outputId": "5e2d69e1-584c-444b-e406-b7b37c2d0bd2"
   },
   "outputs": [],
   "source": [
    "\n",
    "recommend_items(100,final_ratings_sparse,preds_matrix,10)"
   ]
  },
  {
   "cell_type": "code",
   "execution_count": null,
   "metadata": {
    "colab": {
     "base_uri": "https://localhost:8080/",
     "height": 331
    },
    "id": "pQviGbROmFXg",
    "outputId": "668a3cc8-eeeb-458d-b9fe-6f923e8ec6ce"
   },
   "outputs": [],
   "source": [
    "final_ratings_matrix['user_index'] = np.arange(0, final_ratings_matrix.shape[0])\n",
    "final_ratings_matrix.set_index(['user_index'], inplace=True)\n",
    "\n",
    "# Actual ratings given by users\n",
    "final_ratings_matrix.head()"
   ]
  },
  {
   "cell_type": "code",
   "execution_count": null,
   "metadata": {
    "colab": {
     "base_uri": "https://localhost:8080/"
    },
    "id": "Gt-3YyvnmFXg",
    "outputId": "41e0b82b-1334-4837-8833-910b9088f4f4"
   },
   "outputs": [],
   "source": [
    "average_rating = final_ratings_matrix.mean()\n",
    "average_rating.head()\n"
   ]
  },
  {
   "cell_type": "code",
   "execution_count": null,
   "metadata": {
    "colab": {
     "base_uri": "https://localhost:8080/",
     "height": 299
    },
    "id": "fowI8fmpmFXg",
    "outputId": "e9d39b88-a0c6-498c-c226-81103d6e41e9"
   },
   "outputs": [],
   "source": [
    "preds_df.head()\n"
   ]
  },
  {
   "cell_type": "code",
   "execution_count": null,
   "metadata": {
    "id": "IH5ztbH3oV-w"
   },
   "outputs": [],
   "source": [
    "final_ratings_matrix = aggregated_df.pivot_table(index='user_id', columns='product_id', values='rating', fill_value=0)\n",
    "\n",
    "product_id_mapping = {idx: product_id for idx, product_id in enumerate(final_ratings_matrix.columns)}\n"
   ]
  },
  {
   "cell_type": "code",
   "execution_count": null,
   "metadata": {
    "id": "eIcGChoKguN9"
   },
   "outputs": [],
   "source": [
    "def recommend_items_with_user_id(user_id, interactions_matrix, preds_matrix, num_recommendations, product_id_mapping, final_ratings_matrix):\n",
    "    print(final_ratings_matrix.index.get_loc('AG1'))\n",
    "    user_index = final_ratings_matrix.index.get_loc(user_id)\n",
    "    print(user_index)\n",
    "    user_ratings = interactions_matrix[user_index, :].toarray().reshape(-1)\n",
    "    user_predictions = preds_matrix[user_index, :].toarray().reshape(-1)\n",
    "    \n",
    "    \n",
    "    temp = pd.DataFrame({'user_ratings': user_ratings, 'user_predictions': user_predictions})\n",
    "    temp['Recommended Products'] = np.arange(len(user_ratings))\n",
    "    temp = temp.set_index('Recommended Products')\n",
    "\n",
    "    temp = temp.loc[temp.user_ratings == 0]\n",
    "    temp = temp.sort_values('user_predictions', ascending=False)\n",
    "\n",
    "    recommended_product_indices = temp.index[:num_recommendations]\n",
    "\n",
    "    user_id = final_ratings_matrix.index[user_index]  # Get the user ID\n",
    "\n",
    "    print(f'\\nBelow are the recommended products for user (user_id = {user_id}, user_index = {user_index}):')\n",
    "\n",
    "    for idx, product_index in enumerate(recommended_product_indices):\n",
    "        product_id = product_id_mapping[product_index]\n",
    "        user_id_for_product = find_user_id_for_product(user_index, product_id, final_ratings_matrix)\n",
    "        if user_id_for_product:\n",
    "            print(f\"Product ID: {product_id}\")\n",
    "        else:\n",
    "            print(f\"Product ID: {product_id}\")\n",
    "\n",
    "def find_user_id_for_product(user_index, product_id, final_ratings_matrix):\n",
    "    # Get the user ID for the given user_index\n",
    "    user_id = final_ratings_matrix.index[user_index]\n",
    "    \n",
    "    # Check if the user has interacted with the product\n",
    "    if final_ratings_matrix.loc[user_id, product_id] != 0:\n",
    "        return user_id\n",
    "    else:\n",
    "        return None"
   ]
  },
  {
   "cell_type": "code",
   "execution_count": null,
   "metadata": {
    "colab": {
     "base_uri": "https://localhost:8080/",
     "height": 237
    },
    "collapsed": true,
    "id": "GOGqIViUmFXh",
    "outputId": "99f30aec-9613-4450-a04f-3574fe1e21f4"
   },
   "outputs": [],
   "source": [
    "rmse_df = pd.concat([average_rating, avg_preds], axis=1)\n",
    "\n",
    "rmse_df.columns = ['Avg_actual_ratings', 'Avg_predicted_ratings']\n",
    "\n",
    "rmse_df.head()"
   ]
  },
  {
   "cell_type": "code",
   "execution_count": null,
   "metadata": {
    "colab": {
     "base_uri": "https://localhost:8080/"
    },
    "id": "O0HVtjmdmFXh",
    "outputId": "edde7e49-e78b-4b28-88d9-644bf76a4ead"
   },
   "outputs": [],
   "source": [
    "RMSE=mean_squared_error(rmse_df['Avg_actual_ratings'], rmse_df['Avg_predicted_ratings'], squared=False)\n",
    "print(f'RMSE SVD Model = {RMSE} \\n')\n"
   ]
  },
  {
   "cell_type": "code",
   "execution_count": null,
   "metadata": {
    "colab": {
     "base_uri": "https://localhost:8080/"
    },
    "id": "AiB6i8pEht1f",
    "outputId": "e61b6caf-bdb8-4ee0-a3b6-35d8c22c28a6"
   },
   "outputs": [],
   "source": [
    "user_id = 'AG81'  # Change this to the desired user_index\n",
    "num_recommendations = 10  # Change this to the desired number of recommendations\n",
    "user_id_type = type(user_id).__name__\n",
    "print(f\"User ID Type: {user_id_type}\")\n",
    "recommend_items_with_user_id(user_id, final_ratings_sparse, preds_matrix, num_recommendations, product_id_mapping, final_ratings_matrix)\n"
   ]
  },
  {
   "cell_type": "code",
   "execution_count": null,
   "metadata": {
    "colab": {
     "base_uri": "https://localhost:8080/",
     "height": 331
    },
    "id": "AN37kuqmhyMa",
    "outputId": "c9d8c82c-c582-4efd-b324-bc2c3765e853"
   },
   "outputs": [],
   "source": [
    "# Print the user-item interactions matrix again\n",
    "\n",
    "final_ratings_matrix['user_index'] = np.arange(0, final_ratings_matrix.shape[0])\n",
    "final_ratings_matrix.set_index(['user_index'], inplace=True)\n",
    "\n",
    "# Actual ratings given by users\n",
    "final_ratings_matrix.head()"
   ]
  },
  {
   "cell_type": "code",
   "execution_count": null,
   "metadata": {
    "colab": {
     "base_uri": "https://localhost:8080/"
    },
    "id": "Yu4JrVOCh2sY",
    "outputId": "42a90b48-bba6-46ca-de42-61b051101262"
   },
   "outputs": [],
   "source": [
    "# Calculate the average rating for each product\n",
    "average_rating = final_ratings_matrix.mean()\n",
    "average_rating.head()\n"
   ]
  },
  {
   "cell_type": "code",
   "execution_count": null,
   "metadata": {
    "colab": {
     "base_uri": "https://localhost:8080/",
     "height": 299
    },
    "id": "oaqhMhlBh6jF",
    "outputId": "9c3390e3-8b63-48e2-87f8-28961d145a26"
   },
   "outputs": [],
   "source": [
    "# Display the predicted ratings DataFrame again\n",
    "preds_df.head()"
   ]
  },
  {
   "cell_type": "code",
   "execution_count": null,
   "metadata": {
    "colab": {
     "base_uri": "https://localhost:8080/"
    },
    "id": "pl2VaQrvh-CZ",
    "outputId": "f5786bfe-9913-4199-89dd-361e819edcdf"
   },
   "outputs": [],
   "source": [
    "# Calculate the average predicted ratings\n",
    "avg_preds=preds_df.mean()\n",
    "avg_preds.head()\n"
   ]
  },
  {
   "cell_type": "code",
   "execution_count": null,
   "metadata": {
    "colab": {
     "base_uri": "https://localhost:8080/",
     "height": 237
    },
    "id": "xCN0bqZMiAOV",
    "outputId": "b3cd4978-3c83-4506-9548-76fe186937b6"
   },
   "outputs": [],
   "source": [
    "# Create a DataFrame to compare average actual and predicted ratings\n",
    "\n",
    "rmse_df = pd.concat([average_rating, avg_preds], axis=1)\n",
    "\n",
    "rmse_df.columns = ['Avg_actual_ratings', 'Avg_predicted_ratings']\n",
    "\n",
    "rmse_df.head()"
   ]
  },
  {
   "cell_type": "code",
   "execution_count": null,
   "metadata": {
    "colab": {
     "base_uri": "https://localhost:8080/"
    },
    "id": "i_ngG8GNiDij",
    "outputId": "52542262-654a-421e-8b92-ab9f9ace7ece"
   },
   "outputs": [],
   "source": [
    "# Calculate RMSE for the SVD model\n",
    "RMSE=mean_squared_error(rmse_df['Avg_actual_ratings'], rmse_df['Avg_predicted_ratings'], squared=False)\n",
    "print(f'RMSE SVD Model = {RMSE} \\n')"
   ]
  }
 ],
 "metadata": {
  "colab": {
   "provenance": []
  },
  "kernelspec": {
   "display_name": "Python 3 (ipykernel)",
   "language": "python",
   "name": "python3"
  },
  "language_info": {
   "codemirror_mode": {
    "name": "ipython",
    "version": 3
   },
   "file_extension": ".py",
   "mimetype": "text/x-python",
   "name": "python",
   "nbconvert_exporter": "python",
   "pygments_lexer": "ipython3",
   "version": "3.10.9"
  }
 },
 "nbformat": 4,
 "nbformat_minor": 1
}
